{
 "cells": [
  {
   "cell_type": "code",
   "execution_count": 14,
   "id": "9fe9265c",
   "metadata": {
    "scrolled": true
   },
   "outputs": [
    {
     "name": "stdout",
     "output_type": "stream",
     "text": [
      "0\n",
      "1\n",
      "2\n",
      "3\n",
      "4\n"
     ]
    }
   ],
   "source": [
    "n = 0\n",
    "while n < 10:\n",
    "    print(n)\n",
    "    n += 1\n",
    "    if n == 5:\n",
    "        break"
   ]
  },
  {
   "cell_type": "code",
   "execution_count": 28,
   "id": "2004bf70",
   "metadata": {},
   "outputs": [
    {
     "name": "stdout",
     "output_type": "stream",
     "text": [
      "0\n",
      "1\n",
      "2\n",
      "3\n",
      "4\n",
      "5 is not less than 5\n"
     ]
    }
   ],
   "source": [
    "n = 0\n",
    "while n < 5:\n",
    "    print(n)\n",
    "    n += 1\n",
    "else:\n",
    "    print(n,\"is not less than 5\")"
   ]
  },
  {
   "cell_type": "code",
   "execution_count": 104,
   "id": "7f524fd8",
   "metadata": {},
   "outputs": [
    {
     "name": "stdout",
     "output_type": "stream",
     "text": [
      "i like grapes\n",
      "i like kiwi\n",
      "i like watermelon\n",
      "Is an apple is really a fruit I like?\n"
     ]
    }
   ],
   "source": [
    "for i in ['grapes', 'kiwi', 'watermelon', 'apple']:\n",
    "    if i == 'apple':\n",
    "        break \n",
    "    print(\"i like\", i)\n",
    "print(\"Is an apple is really a fruit I like?\")"
   ]
  },
  {
   "cell_type": "code",
   "execution_count": 100,
   "id": "317beb81",
   "metadata": {},
   "outputs": [
    {
     "name": "stdout",
     "output_type": "stream",
     "text": [
      "465\n"
     ]
    }
   ],
   "source": [
    "sum=0\n",
    "for i in range(31):\n",
    "    sum += i\n",
    "print(sum)"
   ]
  },
  {
   "cell_type": "code",
   "execution_count": 25,
   "id": "8501d6e2",
   "metadata": {},
   "outputs": [
    {
     "name": "stdout",
     "output_type": "stream",
     "text": [
      "Good Job! You have an A.\n"
     ]
    }
   ],
   "source": [
    "score = 90\n",
    "grade = 92\n",
    "if grade < score:\n",
    "    print(\"not an A\")\n",
    "elif grade > score:\n",
    "    print (\"Good Job! You have an A.\")\n",
    "else:\n",
    "    print (\"In between A and B\")"
   ]
  },
  {
   "cell_type": "code",
   "execution_count": 43,
   "id": "2d88ff26",
   "metadata": {},
   "outputs": [
    {
     "name": "stdout",
     "output_type": "stream",
     "text": [
      "Andy has a 88\n",
      "Amy has a 66\n",
      "James has a 90\n",
      "Jules has a 55\n",
      "Arthur has a 77\n",
      "\n",
      "the maximum is 90\n",
      "the minimum is 55\n",
      "the average is 75.2\n",
      "\n",
      "Andy\n",
      "Amy\n",
      "\n",
      "Andy\n",
      "Amy\n",
      "Arthur\n"
     ]
    }
   ],
   "source": [
    "d = {'Andy':88, 'Amy':66, 'James': 90, 'Jules': 55, 'Arthur': 77}\n",
    "test_scores= [88,66,90,55,77]\n",
    "for k,v in d.items():\n",
    "        print(k, \"has a\", v)\n",
    "print()\n",
    "print(\"the maximum is\", max(test_scores))\n",
    "print(\"the minimum is\", min(test_scores))\n",
    "print(\"the average is\", sum(test_scores)/len(test_scores))\n",
    "print()\n",
    "for i in ['Andy','Amy','James', 'Jules','Arthur']:\n",
    "    if 'J' in i:\n",
    "        break\n",
    "    print(i)\n",
    "print()\n",
    "for i in ['Andy','Amy','James', 'Jules','Arthur']:\n",
    "    if 'J' in i:\n",
    "        continue\n",
    "    print(i)"
   ]
  }
 ],
 "metadata": {
  "kernelspec": {
   "display_name": "Python 3 (ipykernel)",
   "language": "python",
   "name": "python3"
  },
  "language_info": {
   "codemirror_mode": {
    "name": "ipython",
    "version": 3
   },
   "file_extension": ".py",
   "mimetype": "text/x-python",
   "name": "python",
   "nbconvert_exporter": "python",
   "pygments_lexer": "ipython3",
   "version": "3.9.13"
  }
 },
 "nbformat": 4,
 "nbformat_minor": 5
}
